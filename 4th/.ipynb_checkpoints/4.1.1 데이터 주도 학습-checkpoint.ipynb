{
 "cells": [
  {
   "cell_type": "code",
   "execution_count": 2,
   "id": "8bd8177e",
   "metadata": {},
   "outputs": [],
   "source": [
    "y=[0.1,0.05,0.6,0.0,0.05,0.1,0.0,0.1,0.0,0.0]# 소프트맥스 함수의 출력(신경망이 추정한 값)\n",
    "t=[0,0,1,0,0,0,0,0,0,0]#원핫인코딩(정답레이블)"
   ]
  },
  {
   "cell_type": "code",
   "execution_count": 4,
   "id": "68a738c7",
   "metadata": {},
   "outputs": [
    {
     "name": "stdout",
     "output_type": "stream",
     "text": [
      "0.09750000000000003\n"
     ]
    }
   ],
   "source": [
    "def mean_squared_error(y,t):\n",
    "    return 0.5*np.sum((y-t)**2)\n",
    "import numpy as np\n",
    "print(mean_squared_error(np.array(y),np.array(t)))"
   ]
  },
  {
   "cell_type": "code",
   "execution_count": 6,
   "id": "49f39e36",
   "metadata": {},
   "outputs": [
    {
     "name": "stdout",
     "output_type": "stream",
     "text": [
      "0.91\n"
     ]
    }
   ],
   "source": [
    "y1=[0,0,0,0,0,0,0.9,0.1,0,0]\n",
    "print(mean_squared_error(np.array(y1),np.array(t)))"
   ]
  },
  {
   "cell_type": "code",
   "execution_count": 11,
   "id": "d62fc26d",
   "metadata": {},
   "outputs": [
    {
     "data": {
      "image/png": "[encoded data removed]",
      "text/plain": [
       "<Figure size 640x480 with 1 Axes>"
      ]
     },
     "metadata": {},
     "output_type": "display_data"
    }
   ],
   "source": [
    "%matplotlib inline\n",
    "import matplotlib.pylab as plt\n",
    "x=np.arange(0.001,1.0,0.001)\n",
    "y=np.log(x)\n",
    "plt.plot(x,y)\n",
    "plt.ylim(-5.0,0.0)\n",
    "plt.show()"
   ]
  },
  {
   "cell_type": "code",
   "execution_count": 12,
   "id": "4b74b85b",
   "metadata": {},
   "outputs": [],
   "source": [
    "#교차 엔트로피\n",
    "def cross_entrophy_error(y,t):\n",
    "    h=1e-7\n",
    "    return -np.sum(t*np.log(y+h))"
   ]
  },
  {
   "cell_type": "code",
   "execution_count": 14,
   "id": "b36a3bad",
   "metadata": {},
   "outputs": [
    {
     "name": "stdout",
     "output_type": "stream",
     "text": [
      "0.510825457099338\n"
     ]
    }
   ],
   "source": [
    "t=[0,0,1,0,0,0,0,0,0,0]\n",
    "y=[0.1,0.05,0.6,0.0,0.05,0.1,0.0,0.1,0.0,0.0]\n",
    "print(cross_entrophy_error(np.array(y),np.array(t)))"
   ]
  },
  {
   "cell_type": "code",
   "execution_count": 18,
   "id": "103ea6a1",
   "metadata": {},
   "outputs": [
    {
     "name": "stdout",
     "output_type": "stream",
     "text": [
      "(60000, 784)\n",
      "(60000, 10)\n"
     ]
    }
   ],
   "source": [
    "#4.2.3 미니배치학습\n",
    "import sys,os\n",
    "sys.path.append(os.pardir)\n",
    "import numpy as np\n",
    "from dataset.mnist import load_mnist\n",
    "(x_train, t_train),(x_test,t_test)=load_mnist(normalize=True,one_hot_label=True)\n",
    "print(x_train.shape)\n",
    "print(t_train.shape)"
   ]
  },
  {
   "cell_type": "code",
   "execution_count": 23,
   "id": "3f72734e",
   "metadata": {},
   "outputs": [
    {
     "name": "stdout",
     "output_type": "stream",
     "text": [
      "[31548  1328 24706 42790 51382 11522  7028 32739 17355 22480]\n",
      "784\n"
     ]
    }
   ],
   "source": [
    "train_size=x_train.shape[0]#60000개 중에 10개를 뽑기위해\n",
    "batch_size=10\n",
    "batch_mask=np.random.choice(train_size,batch_size)\n",
    "x_batch=x_train[batch_mask]\n",
    "t_batch=t_train[batch_mask]\n",
    "print(batch_mask)\n"
   ]
  },
  {
   "cell_type": "code",
   "execution_count": 24,
   "id": "0c14d9fd",
   "metadata": {},
   "outputs": [],
   "source": [
    "#4.2.4 (배치용) 교차 엔트로피 오차 구현하기\n",
    "def cross_entropy_error(y,t):\n",
    "    if y.ndim == 1:\n",
    "        t=t.reshape(1,t.size)\n",
    "        y=y.reshape(1,y.size)\n",
    "    batch_size=y.shape[0]\n",
    "    return -np.sum(t*np.log(y))/batch_size\n"
   ]
  },
  {
   "cell_type": "code",
   "execution_count": 27,
   "id": "7e429283",
   "metadata": {},
   "outputs": [],
   "source": [
    "def cross_entropy_error(y,t):\n",
    "    if y.ndim == 1:\n",
    "        t=t.reshape(1,t.size)#원 핫 인코딩\n",
    "        y=y.reshape(1,y.size)\n",
    "    batch_size=y.shape[0]\n",
    "    return -np.sum(np.log(y[np.arange(batch_size),t]))/batch_size\n",
    "\n",
    "        "
   ]
  },
  {
   "cell_type": "code",
   "execution_count": null,
   "id": "f834cb83",
   "metadata": {},
   "outputs": [],
   "source": []
  }
 ],
 "metadata": {
  "kernelspec": {
   "display_name": "Python 3 (ipykernel)",
   "language": "python",
   "name": "python3"
  },
  "language_info": {
   "codemirror_mode": {
    "name": "ipython",
    "version": 3
   },
   "file_extension": ".py",
   "mimetype": "text/x-python",
   "name": "python",
   "nbconvert_exporter": "python",
   "pygments_lexer": "ipython3",
   "version": "3.9.16"
  }
 },
 "nbformat": 4,
 "nbformat_minor": 5
}
